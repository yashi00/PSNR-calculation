{
 "cells": [
  {
   "cell_type": "code",
   "execution_count": 3,
   "id": "375daf59",
   "metadata": {},
   "outputs": [],
   "source": [
    "import cv2 \n",
    "#cv2 is used for OpenCV library\n",
    "#img = cv2.imread(\"image1.jpeg\")\n",
    "img = cv2.imread(\"img1.jpg\")\n",
    "gray_image = cv2.cvtColor(img, cv2.COLOR_BGR2GRAY)\n",
    "(thresh, binary) = cv2.threshold(gray_image, 127, 255, cv2.THRESH_BINARY)\n",
    "cv2.imshow(\"Black and White Image\",binary)\n",
    "cv2.waitKey(0)\n",
    "cv2.destroyAllWindows()"
   ]
  },
  {
   "cell_type": "code",
   "execution_count": 4,
   "id": "7a00011e",
   "metadata": {},
   "outputs": [
    {
     "data": {
      "text/plain": [
       "True"
      ]
     },
     "execution_count": 4,
     "metadata": {},
     "output_type": "execute_result"
    }
   ],
   "source": [
    "import random\n",
    "import cv2\n",
    "\n",
    "def add_noise(img):\n",
    "\n",
    "\t# Getting the dimensions of the image\n",
    "\trow , col = img.shape\n",
    "\t\n",
    "\t# Randomly pick some pixels in the\n",
    "\t# image for coloring them white\n",
    "\t# Pick a random number between 300 and 10000\n",
    "\tnumber_of_pixels = random.randint(300, 10000)\n",
    "\tfor i in range(number_of_pixels):\n",
    "\t\t\n",
    "\t\t# Pick a random y coordinate\n",
    "\t\ty_coord=random.randint(0, row - 1)\n",
    "\t\t\n",
    "\t\t# Pick a random x coordinate\n",
    "\t\tx_coord=random.randint(0, col - 1)\n",
    "\t\t\n",
    "\t\t# Color that pixel to white\n",
    "\t\timg[y_coord][x_coord] = 255\n",
    "\t\t\n",
    "\t# Randomly pick some pixels in\n",
    "\t# the image for coloring them black\n",
    "\t# Pick a random number between 300 and 10000\n",
    "\tnumber_of_pixels = random.randint(300 , 10000)\n",
    "\tfor i in range(number_of_pixels):\n",
    "\t\t\n",
    "\t\t# Pick a random y coordinate\n",
    "\t\ty_coord=random.randint(0, row - 1)\n",
    "\t\t\n",
    "\t\t# Pick a random x coordinate\n",
    "\t\tx_coord=random.randint(0, col - 1)\n",
    "\t\t\n",
    "\t\t# Color that pixel to black\n",
    "\t\timg[y_coord][x_coord] = 0\n",
    "\t\t\n",
    "\treturn img\n",
    "\n",
    "# salt-and-pepper noise can\n",
    "# be applied only to grayscale images\n",
    "# Reading the color image in grayscale image\n",
    "#img = cv2.imread('lena.jpg',\t\t\t\tcv2.IMREAD_GRAYSCALE)\n",
    "\n",
    "#Storing the image\n",
    "image=add_noise(binary)\n",
    "cv2.imwrite('salt-and-pepper-added.jpg',image)\n"
   ]
  },
  {
   "cell_type": "code",
   "execution_count": 6,
   "id": "461b8186",
   "metadata": {},
   "outputs": [],
   "source": [
    "import numpy\n",
    "from PIL import Image\n",
    "\n",
    "\n",
    "def median_filter(data, filter_size):\n",
    "    temp = []\n",
    "    indexer = filter_size // 2\n",
    "    data_final = []\n",
    "    data_final = numpy.zeros((len(data),len(data[0])))\n",
    "    for i in range(len(data)):\n",
    "\n",
    "        for j in range(len(data[0])):\n",
    "\n",
    "            for z in range(filter_size):\n",
    "                if i + z - indexer < 0 or i + z - indexer > len(data) - 1:\n",
    "                    for c in range(filter_size):\n",
    "                        temp.append(0)\n",
    "                else:\n",
    "                    if j + z - indexer < 0 or j + indexer > len(data[0]) - 1:\n",
    "                        temp.append(0)\n",
    "                    else:\n",
    "                        for k in range(filter_size):\n",
    "                            temp.append(data[i + z - indexer][j + k - indexer])\n",
    "\n",
    "            temp.sort()\n",
    "            data_final[i][j] = temp[len(temp) // 2]\n",
    "            temp = []\n",
    "    return data_final\n",
    "\n",
    "\n",
    "def main():\n",
    "    #img = Image.open(\"noisyimg.png\").convert(\"L\")\n",
    "    arr = numpy.array(image)\n",
    "    removed_noise = median_filter(arr, 3) \n",
    "    finimg = Image.fromarray(removed_noise)\n",
    "    finimg.show()\n",
    "    cv2.imwrite('salt-and-pepper-rmdmedian.jpg',removed_noise)\n",
    "\n",
    "\n",
    "main()"
   ]
  },
  {
   "cell_type": "code",
   "execution_count": 7,
   "id": "a638f162",
   "metadata": {},
   "outputs": [
    {
     "data": {
      "text/plain": [
       "True"
      ]
     },
     "execution_count": 7,
     "metadata": {},
     "output_type": "execute_result"
    }
   ],
   "source": [
    "Opencv_Median = cv2.medianBlur(image, 3)\n",
    "cv2.imwrite('salt-and-pepper-removed2.jpg',Opencv_Median)"
   ]
  },
  {
   "cell_type": "code",
   "execution_count": 9,
   "id": "31c0ca83",
   "metadata": {},
   "outputs": [
    {
     "name": "stdout",
     "output_type": "stream",
     "text": [
      "10.9489800216838\n"
     ]
    }
   ],
   "source": [
    "psnr = cv2.PSNR(image, Opencv_Median)\n",
    "print(psnr)"
   ]
  },
  {
   "cell_type": "code",
   "execution_count": 7,
   "id": "fcda5744",
   "metadata": {},
   "outputs": [],
   "source": [
    "import numpy as np\n",
    "from PIL import Image\n",
    "\n",
    "# Load the image\n",
    "image = Image.open('img1.jpg')\n",
    "\n",
    "# Convert the image to a numpy array\n",
    "image_array = np.array(image)\n",
    "\n",
    "# Calculate the standard deviation of the noise\n",
    "sigma = 10\n",
    "\n",
    "# Create a noise array with the same shape as the image\n",
    "noise = np.random.normal(scale=sigma, size=image_array.shape)\n",
    "\n",
    "# Add the noise to the image\n",
    "noisy_image_array = image_array + noise\n",
    "\n",
    "# Clip the pixel values to the valid range [0, 255]\n",
    "noisy_image_array = np.clip(noisy_image_array, 0, 255)\n",
    "\n",
    "# Convert the numpy array back to an image\n",
    "noisy_image = Image.fromarray(noisy_image_array.astype(np.uint8))\n",
    "\n",
    "# Save the noisy image\n",
    "noisy_image.save('gaussian_noisy_image.jpg')\n"
   ]
  },
  {
   "cell_type": "code",
   "execution_count": 9,
   "id": "6170f88d",
   "metadata": {},
   "outputs": [],
   "source": [
    "import numpy as np\n",
    "from scipy.signal import wiener\n",
    "from PIL import Image\n",
    "\n",
    "# Load the image\n",
    "image = Image.open('gaussian_noisy_image.jpg')\n",
    "\n",
    "# Convert the image to a numpy array\n",
    "image_array = np.array(image)\n",
    "\n",
    "# Extract the individual color channels\n",
    "red_channel = image_array[:, :, 0]\n",
    "green_channel = image_array[:, :, 1]\n",
    "blue_channel = image_array[:, :, 2]\n",
    "\n",
    "# Set the kernel size\n",
    "kernel_size = (3, 3)\n",
    "\n",
    "# Apply the Wiener filter to each channel separately\n",
    "filtered_red_channel = wiener(red_channel, mysize=kernel_size)\n",
    "filtered_green_channel = wiener(green_channel, mysize=kernel_size)\n",
    "filtered_blue_channel = wiener(blue_channel, mysize=kernel_size)\n",
    "\n",
    "# Combine the filtered channels into a single image\n",
    "filtered_image_array = np.stack((filtered_red_channel, filtered_green_channel, filtered_blue_channel), axis=2)\n",
    "\n",
    "# Convert the filtered numpy array back to an image\n",
    "filtered_image = Image.fromarray(np.uint8(filtered_image_array))\n",
    "\n",
    "# Save the filtered image\n",
    "filtered_image.save('gaussianrmdwiener_image.jpg')\n"
   ]
  },
  {
   "cell_type": "code",
   "execution_count": 14,
   "id": "e7559235",
   "metadata": {},
   "outputs": [
    {
     "name": "stdout",
     "output_type": "stream",
     "text": [
      "Requirement already satisfied: Pillow in c:\\users\\yashi\\anaconda3\\lib\\site-packages (9.2.0)\n",
      "Requirement already satisfied: scipy in c:\\users\\yashi\\anaconda3\\lib\\site-packages (1.9.1)\n",
      "Requirement already satisfied: numpy<1.25.0,>=1.18.5 in c:\\users\\yashi\\anaconda3\\lib\\site-packages (from scipy) (1.21.5)\n",
      "Note: you may need to restart the kernel to use updated packages.\n"
     ]
    }
   ],
   "source": [
    "pip install Pillow scipy"
   ]
  },
  {
   "cell_type": "code",
   "execution_count": 11,
   "id": "3919d8ba",
   "metadata": {},
   "outputs": [
    {
     "name": "stdout",
     "output_type": "stream",
     "text": [
      "20.160015051034073\n"
     ]
    }
   ],
   "source": [
    "filt_arr = np.array(filtered_image)\n",
    "original = np.array(image_array)\n",
    "psnr = cv2.PSNR(original, filt_arr)\n",
    "print(psnr)"
   ]
  },
  {
   "cell_type": "code",
   "execution_count": 12,
   "id": "19abb94d",
   "metadata": {},
   "outputs": [
    {
     "data": {
      "text/plain": [
       "True"
      ]
     },
     "execution_count": 12,
     "metadata": {},
     "output_type": "execute_result"
    }
   ],
   "source": [
    "import numpy as np\n",
    "import cv2\n",
    "\n",
    "def add_poisson_noise(image_array, scale):\n",
    "    \"\"\"\n",
    "    Add Poisson noise to an image.\n",
    "    Args:\n",
    "        image_array (numpy array): Input image.\n",
    "        scale (int): Scaling factor for Poisson noise.\n",
    "    Returns:\n",
    "        numpy array: Image with Poisson noise added.\n",
    "    \"\"\"\n",
    "    # Generate Poisson noise\n",
    "    noisy = np.random.poisson(image_array * scale) / float(scale)\n",
    "    \n",
    "    # Clip values to ensure they are within the valid range for the image data type\n",
    "    noisy = np.clip(noisy, 0, 255)\n",
    "    \n",
    "    # Convert the data type back to the original\n",
    "    noisy = noisy.astype(image_array.dtype)\n",
    "    \n",
    "    return noisy\n",
    "\n",
    "# Load the image\n",
    "img_array = cv2.imread(\"img1.jpg\")\n",
    "\n",
    "# Apply Poisson noise\n",
    "noisy_img_array = add_poisson_noise(img_array, scale=50)\n",
    "\n",
    "# Display the noisy image\n",
    "cv2.imshow(\"poisson Image\", noisy_img_array)\n",
    "cv2.waitKey(0)\n",
    "cv2.destroyAllWindows()\n",
    "cv2.imwrite('poisson_added.jpg',noisy_img_array)\n"
   ]
  },
  {
   "cell_type": "code",
   "execution_count": 22,
   "id": "5eca1f2b",
   "metadata": {},
   "outputs": [
    {
     "data": {
      "text/plain": [
       "True"
      ]
     },
     "execution_count": 22,
     "metadata": {},
     "output_type": "execute_result"
    }
   ],
   "source": [
    "import cv2\n",
    "import numpy as np\n",
    "from scipy.signal import wiener\n",
    "\n",
    "# Load the image\n",
    "img = cv2.imread('img1.jpg', 0)\n",
    "\n",
    "# Add Poisson noise to the image\n",
    "poisson_noise = np.random.poisson(lam=img, size=img.shape)\n",
    "noisy_img = img + poisson_noise.astype(np.uint8)\n",
    "\n",
    "# Apply Wiener filter to remove Poisson noise\n",
    "filtered_img = wiener(noisy_img, mysize=None, noise=None)\n",
    "\n",
    "# Convert the filtered image back to uint8 data type\n",
    "filtered_img = filtered_img.astype(np.uint8)\n",
    "\n",
    "# Display the original, noisy, and filtered images\n",
    "cv2.imshow('Original Image', img)\n",
    "cv2.imshow('Noisy Image', noisy_img)\n",
    "cv2.imshow('Filtered Image', filtered_img)\n",
    "cv2.waitKey(0)\n",
    "cv2.destroyAllWindows()\n",
    "cv2.imwrite('Poisson Original.jpg',img)\n",
    "cv2.imwrite('Poissonadded noised.jpg',noisy_img)\n",
    "cv2.imwrite('Poissonrmdwiener Filtered.jpg',filtered_img)\n"
   ]
  },
  {
   "cell_type": "code",
   "execution_count": 23,
   "id": "d79c7930",
   "metadata": {},
   "outputs": [
    {
     "name": "stdout",
     "output_type": "stream",
     "text": [
      "9.648915599273263\n"
     ]
    }
   ],
   "source": [
    "image_array = np.array(filtered_img)\n",
    "original = np.array(img)\n",
    "psnr = cv2.PSNR(original, image_array.astype(np.uint8))\n",
    "print(psnr)"
   ]
  },
  {
   "cell_type": "code",
   "execution_count": 13,
   "id": "50c833f1",
   "metadata": {},
   "outputs": [
    {
     "data": {
      "text/plain": [
       "True"
      ]
     },
     "execution_count": 13,
     "metadata": {},
     "output_type": "execute_result"
    }
   ],
   "source": [
    "import cv2\n",
    "import numpy as np\n",
    "\n",
    "# Load an image\n",
    "img = cv2.imread('img1.jpg')\n",
    "\n",
    "# Add speckle noise to the image\n",
    "noise = np.random.normal(0, 1, img.shape)\n",
    "noisy_img_speckle = img + img * noise\n",
    "\n",
    "# Display the noisy image\n",
    "cv2.imshow('Noisy Image speckle', noisy_img_speckle)\n",
    "cv2.waitKey(0)\n",
    "cv2.destroyAllWindows()\n",
    "cv2.imwrite(' speckle_added_formean.jpg',noisy_img_speckle)\n"
   ]
  },
  {
   "cell_type": "code",
   "execution_count": 14,
   "id": "9cdff0a3",
   "metadata": {},
   "outputs": [
    {
     "data": {
      "text/plain": [
       "True"
      ]
     },
     "execution_count": 14,
     "metadata": {},
     "output_type": "execute_result"
    }
   ],
   "source": [
    "import cv2\n",
    "import numpy as np\n",
    "\n",
    "# Read the image\n",
    "img = cv2.imread('img1.jpg')\n",
    "\n",
    "# Add speckle noise\n",
    "speckle_noise = np.random.randn(*img.shape) * 0.5\n",
    "speckled_img = img + img * speckle_noise\n",
    "\n",
    "# Define kernel size for mean filter\n",
    "kernel_size = 5\n",
    "\n",
    "# Apply mean filter to remove speckle noise\n",
    "filtered_img = cv2.blur(speckled_img, (kernel_size, kernel_size))\n",
    "\n",
    "# Display original and filtered images\n",
    "cv2.imshow('Original', img)\n",
    "cv2.imshow('Speckled', speckled_img)\n",
    "cv2.imshow('Filtered', filtered_img)\n",
    "cv2.waitKey(0)\n",
    "cv2.destroyAllWindows()\n",
    "cv2.imwrite('specklermdmean.jpg',noisy_img_array)\n"
   ]
  },
  {
   "cell_type": "code",
   "execution_count": 15,
   "id": "cf80edf3",
   "metadata": {},
   "outputs": [
    {
     "name": "stdout",
     "output_type": "stream",
     "text": [
      "3.8387141854498994\n"
     ]
    }
   ],
   "source": [
    "filt_arr = np.array(noisy_img_array)\n",
    "original = np.array(img)\n",
    "psnr = cv2.PSNR(original, filt_arr)\n",
    "print(psnr)"
   ]
  },
  {
   "cell_type": "code",
   "execution_count": 16,
   "id": "2807fba6",
   "metadata": {},
   "outputs": [
    {
     "data": {
      "text/plain": [
       "True"
      ]
     },
     "execution_count": 16,
     "metadata": {},
     "output_type": "execute_result"
    }
   ],
   "source": [
    "import cv2\n",
    "import numpy as np\n",
    "# Read the image\n",
    "img7 = cv2.imread('img1.jpg', cv2.IMREAD_GRAYSCALE)\n",
    "\n",
    "# Add speckle noise\n",
    "noise = np.random.normal(0, 1, img7.shape)\n",
    "noisy_img7 = img7 + img7 * noise\n",
    "cv2.imwrite('speckle-noise1.jpg',noisy_img7)\n",
    "\n",
    "\n",
    "# Apply Gaussian filter with kernel size 5x5 and standard deviation 1.5\n",
    "gaussian = cv2.GaussianBlur(noisy_img7, (5, 5), 1.5)\n",
    "\n",
    "# Display the original and filtered images\n",
    "cv2.imshow('Originalg Image', img7)\n",
    "cv2.imshow('Noisyg Image', noisy_img7)\n",
    "cv2.imshow('Filteredg Image', gaussian)\n",
    "\n",
    "cv2.waitKey(0)\n",
    "cv2.destroyAllWindows()\n",
    "cv2.imwrite('Speckledrmdg Original.jpg',img7)\n",
    "cv2.imwrite('Speckledrmdg noised.jpg',noisy_img7)\n",
    "cv2.imwrite('Speckledrmdg Filtered.jpg',gaussian)\n",
    "\n"
   ]
  },
  {
   "cell_type": "code",
   "execution_count": 17,
   "id": "a42de7d9",
   "metadata": {},
   "outputs": [
    {
     "name": "stdout",
     "output_type": "stream",
     "text": [
      "11.260750071973447\n"
     ]
    }
   ],
   "source": [
    "image_array = np.array(gaussian)\n",
    "original = np.array(img7)\n",
    "psnr = cv2.PSNR(original, image_array.astype(np.uint8))\n",
    "print(psnr)"
   ]
  },
  {
   "cell_type": "code",
   "execution_count": 19,
   "id": "a9bac9e1",
   "metadata": {},
   "outputs": [
    {
     "data": {
      "text/plain": [
       "True"
      ]
     },
     "execution_count": 19,
     "metadata": {},
     "output_type": "execute_result"
    }
   ],
   "source": [
    "import cv2\n",
    "import numpy as np\n",
    "\n",
    "# Load image\n",
    "img7 = cv2.imread('img1.jpg', cv2.IMREAD_GRAYSCALE)\n",
    "\n",
    "# Add speckle noise\n",
    "noise = np.random.normal(0, 1, img7.shape)\n",
    "noisy_img7 = img7 + img7 * noise\n",
    "cv2.imwrite('speckle-noise-added-for-median.jpg',noisy_img7)\n",
    "# Apply median filter to remove noise\n",
    "filtered_img7 = cv2.medianBlur(noisy_img7.astype(np.uint8), 3)\n",
    "\n",
    "# Display original, noisy, and filtered images\n",
    "#cv2.imwrite('gaussian-noise-3.jpg',noisy_img3)\n",
    "cv2.imwrite('speckle-noise-removed-by-median-filter.jpg',filtered_img7)"
   ]
  },
  {
   "cell_type": "code",
   "execution_count": 20,
   "id": "44f1ec46",
   "metadata": {},
   "outputs": [
    {
     "name": "stdout",
     "output_type": "stream",
     "text": [
      "10.962046888003753\n"
     ]
    }
   ],
   "source": [
    "image_array = np.array(filtered_img7)\n",
    "original = np.array(img7)\n",
    "psnr = cv2.PSNR(original, image_array.astype(np.uint8))\n",
    "print(psnr)"
   ]
  }
 ],
 "metadata": {
  "kernelspec": {
   "display_name": "Python 3 (ipykernel)",
   "language": "python",
   "name": "python3"
  },
  "language_info": {
   "codemirror_mode": {
    "name": "ipython",
    "version": 3
   },
   "file_extension": ".py",
   "mimetype": "text/x-python",
   "name": "python",
   "nbconvert_exporter": "python",
   "pygments_lexer": "ipython3",
   "version": "3.10.9"
  }
 },
 "nbformat": 4,
 "nbformat_minor": 5
}
